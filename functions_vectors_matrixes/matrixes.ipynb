{
 "cells": [
  {
   "cell_type": "markdown",
   "metadata": {},
   "source": [
    "# Matrixes"
   ]
  },
  {
   "cell_type": "markdown",
   "metadata": {},
   "source": [
    "1. Let be matrix $A = \\left(\\begin{array}{cc}1 & 2 \\\\ 3 &1 \\\\ 1 & 3\\end{array}\\right)$. What are its dimensions? As a function, what is its mapping?\n",
    " - Calculate the result of applying it to vector $\\mathbf{x}=(1,1)'$.\n"
   ]
  },
  {
   "cell_type": "code",
   "execution_count": 27,
   "metadata": {},
   "outputs": [
    {
     "name": "stdout",
     "output_type": "stream",
     "text": [
      "[[1 2]\n",
      " [3 1]\n",
      " [1 3]] Shape: (3, 2)\n",
      "[[1]\n",
      " [1]] Shape: (2, 1)\n",
      "y1=\n",
      " [[3]\n",
      " [4]\n",
      " [4]] Shape: (3, 1)\n",
      "y2=\n",
      " [[3]\n",
      " [4]\n",
      " [4]] Shape: (3, 1)\n",
      "y3=\n",
      " [[3]\n",
      " [4]\n",
      " [4]] Shape: (3, 1)\n"
     ]
    }
   ],
   "source": [
    "import matplotlib.pyplot as plt\n",
    "import numpy as np\n",
    "\n",
    "def draw_arrow(x,y,or_x=0, or_y=0,c='r',ll=-2,ul=2):\n",
    "    '''\n",
    "        x,y: the coordenates of the vector to be plot\n",
    "        or_x,or_y the origin of the vector (default (0,0))\n",
    "        c: color of the vector (default r=red)\n",
    "        ll: lowerlimit (default -2)\n",
    "        ul: upperlimit (default 2)\n",
    "        https://matplotlib.org/3.1.0/gallery/color/named_colors.html to know the possible values for argument c\n",
    "    '''\n",
    "    lowerlim=ll\n",
    "    upperlim=ul\n",
    "    plt.rcParams['figure.figsize'] = [5, 5]\n",
    "        \n",
    "    plt.axhline(0, color='grey')\n",
    "    plt.axvline(0, color='grey')\n",
    "    plt.xticks(np.arange(lowerlim,upperlim,0.5))\n",
    "    plt.yticks(np.arange(lowerlim,upperlim,0.5))\n",
    "\n",
    "    plt.quiver(or_x,or_y,x,y, color=c, angles='xy', scale_units='xy',  scale=1, width=0.015)\n",
    "    plt.axis('equal')\n",
    "\n",
    "    plt.xlim([lowerlim,upperlim]) #<-- set the x axis limits\n",
    "    plt.ylim([lowerlim,upperlim]) #<-- set the y axis limits\n",
    "\n",
    "    plt.grid(b=True,which='both') #<-- plot grid lines\n",
    "#---------------------------------------------------------------\n",
    "\n",
    "\n",
    "A=np.array([[1, 2],\n",
    "            [3, 1],\n",
    "            [1, 3]])\n",
    "x=np.array([[1],[1]]) # remember that vectors are columns\n",
    "print (A , 'Shape:', A.shape)\n",
    "print (x, 'Shape:', x.shape)\n",
    "\n",
    "# You can check your results using '@' operator np.dot or np.matmul\n",
    "# Beware the order\n",
    "y1 = A@x\n",
    "y2 = A.dot(x)\n",
    "y3 = np.matmul(A,x)\n",
    "\n",
    "print('y1=\\n',y1,'Shape:',y1.shape)\n",
    "print('y2=\\n',y2,'Shape:',y2.shape)\n",
    "print('y3=\\n',y3,'Shape:',y3.shape)\n",
    "\n"
   ]
  },
  {
   "cell_type": "markdown",
   "metadata": {},
   "source": [
    "2. Let be matrix $U = \\left(\\begin{array}{cc}0.71 & -0.71 \\\\ 0.71 & 0.71 \\end{array}\\right)$. Consider the following vectors and calculate their images through $U$.\n",
    " - $(1, 0)' \\, , \\; (2, 0)'  \\, , \\; (1, 1)'  \\, , \\; (0, 2)' $.\n",
    " - Draw the original vectors and the corresponding images. What is the effect of applying $U$?\n"
   ]
  },
  {
   "cell_type": "code",
   "execution_count": 28,
   "metadata": {},
   "outputs": [
    {
     "name": "stdout",
     "output_type": "stream",
     "text": [
      "U=\n",
      " [[ 0.71 -0.71]\n",
      " [ 0.71  0.71]] Shape: (2, 2)\n",
      "x1=\n",
      " [[1]\n",
      " [0]]\n",
      "y1=\n",
      " [[0.71]\n",
      " [0.71]]\n"
     ]
    },
    {
     "data": {
      "image/png": "[encoded data removed]",
      "text/plain": [
       "<Figure size 360x360 with 1 Axes>"
      ]
     },
     "metadata": {
      "needs_background": "light"
     },
     "output_type": "display_data"
    },
    {
     "name": "stdout",
     "output_type": "stream",
     "text": [
      "x2=\n",
      " [[2]\n",
      " [0]]\n",
      "y2=\n",
      " [[1.42]\n",
      " [1.42]]\n"
     ]
    },
    {
     "data": {
      "image/png": "[encoded data removed]",
      "text/plain": [
       "<Figure size 360x360 with 1 Axes>"
      ]
     },
     "metadata": {
      "needs_background": "light"
     },
     "output_type": "display_data"
    },
    {
     "name": "stdout",
     "output_type": "stream",
     "text": [
      "x3=\n",
      " [[1]\n",
      " [1]]\n",
      "y3=\n",
      " [[0.  ]\n",
      " [1.42]]\n"
     ]
    },
    {
     "data": {
      "image/png": "[encoded data removed]",
      "text/plain": [
       "<Figure size 360x360 with 1 Axes>"
      ]
     },
     "metadata": {
      "needs_background": "light"
     },
     "output_type": "display_data"
    },
    {
     "name": "stdout",
     "output_type": "stream",
     "text": [
      "x4=\n",
      " [[0]\n",
      " [2]]\n",
      "y4=\n",
      " [[-1.42]\n",
      " [ 1.42]]\n"
     ]
    },
    {
     "data": {
      "image/png": "[encoded data removed]",
      "text/plain": [
       "<Figure size 360x360 with 1 Axes>"
      ]
     },
     "metadata": {
      "needs_background": "light"
     },
     "output_type": "display_data"
    }
   ],
   "source": [
    "U=np.array([[0.71, -0.71],\n",
    "            [0.71, 0.71]])\n",
    "x1=np.array([[1],[0]]) # remember that vectors are columns\n",
    "x2=np.array([[2],[0]]) # remember that vectors are columns\n",
    "x3=np.array([[1],[1]]) # remember that vectors are columns\n",
    "x4=np.array([[0],[2]]) # remember that vectors are columns\n",
    "\n",
    "\n",
    "print ('U=\\n', U , 'Shape:', U.shape)\n",
    "\n",
    "# You can check your results using '@' operator np.dot or np.matmul\n",
    "# Beware the order\n",
    "y1 = np.dot(U,x1)\n",
    "y2 = np.dot(U,x2)\n",
    "y3 = np.dot(U,x3)\n",
    "y4 = np.dot(U,x4)\n",
    "\n",
    "print ('x1=\\n', x1)\n",
    "print('y1=\\n',y1)\n",
    "\n",
    "draw_arrow(x1[0],x1[1],c='r')\n",
    "draw_arrow(y1[0],y1[1],c='b')\n",
    "plt.show()\n",
    "\n",
    "print ('x2=\\n', x2)\n",
    "print('y2=\\n',y2)\n",
    "\n",
    "draw_arrow(x2[0],x2[1],c='r')\n",
    "draw_arrow(y2[0],y2[1],c='b')\n",
    "plt.show()\n",
    "\n",
    "print ('x3=\\n', x3)\n",
    "print('y3=\\n',y3)\n",
    "\n",
    "draw_arrow(x3[0],x3[1],c='r')\n",
    "draw_arrow(y3[0],y3[1],c='b')\n",
    "plt.show()\n",
    "\n",
    "print ('x4=\\n', x4)\n",
    "print('y4=\\n',y4)\n",
    "\n",
    "draw_arrow(x4[0],x4[1],c='r')\n",
    "draw_arrow(y4[0],y4[1],c='b')\n",
    "plt.show()\n"
   ]
  },
  {
   "cell_type": "markdown",
   "metadata": {},
   "source": [
    "3. Let be matrix $U = \\left(\\begin{array}{cc}0.8 & 0.4 \\\\ 0.4 & 0.2 \\end{array}\\right)$. Consider the following vectors and calculate their images through $U$.\n",
    " - $(1, 0)' \\, , \\; (2, 0)'  \\, , \\; (1, 1)'  \\, , \\; (0, 2)' $.\n",
    " - Draw the original vectors and the corresponding images. What is the effect of applying $U$?\n"
   ]
  },
  {
   "cell_type": "code",
   "execution_count": 5,
   "metadata": {},
   "outputs": [
    {
     "name": "stdout",
     "output_type": "stream",
     "text": [
      "U=\n",
      " [[0.8 0.4]\n",
      " [0.4 0.2]] Shape: (2, 2)\n",
      "x1=\n",
      " [[1]\n",
      " [0]]\n",
      "y1=\n",
      " [[0.8]\n",
      " [0.4]]\n"
     ]
    },
    {
     "data": {
      "image/png": "[encoded data removed]",
      "text/plain": [
       "<Figure size 360x360 with 1 Axes>"
      ]
     },
     "metadata": {
      "needs_background": "light"
     },
     "output_type": "display_data"
    },
    {
     "name": "stdout",
     "output_type": "stream",
     "text": [
      "x2=\n",
      " [[2]\n",
      " [0]]\n",
      "y2=\n",
      " [[1.6]\n",
      " [0.8]]\n"
     ]
    },
    {
     "data": {
      "image/png": "[encoded data removed]",
      "text/plain": [
       "<Figure size 360x360 with 1 Axes>"
      ]
     },
     "metadata": {
      "needs_background": "light"
     },
     "output_type": "display_data"
    },
    {
     "name": "stdout",
     "output_type": "stream",
     "text": [
      "x3=\n",
      " [[1]\n",
      " [1]]\n",
      "y3=\n",
      " [[1.2]\n",
      " [0.6]]\n"
     ]
    },
    {
     "data": {
      "image/png": "[encoded data removed]",
      "text/plain": [
       "<Figure size 360x360 with 1 Axes>"
      ]
     },
     "metadata": {
      "needs_background": "light"
     },
     "output_type": "display_data"
    },
    {
     "name": "stdout",
     "output_type": "stream",
     "text": [
      "x4=\n",
      " [[0]\n",
      " [2]]\n",
      "y4=\n",
      " [[0.8]\n",
      " [0.4]]\n"
     ]
    },
    {
     "data": {
      "image/png": "[encoded data removed]",
      "text/plain": [
       "<Figure size 360x360 with 1 Axes>"
      ]
     },
     "metadata": {
      "needs_background": "light"
     },
     "output_type": "display_data"
    }
   ],
   "source": [
    "import matplotlib.pyplot as plt\n",
    "import numpy as np\n",
    "\n",
    "def draw_arrow(x,y,or_x=0, or_y=0,c='r',ll=-2,ul=2):\n",
    "    '''\n",
    "        x,y: the coordenates of the vector to be plot\n",
    "        or_x,or_y the origin of the vector (default (0,0))\n",
    "        c: color of the vector (default r=red)\n",
    "        ll: lowerlimit (default -2)\n",
    "        ul: upperlimit (default 2)\n",
    "        https://matplotlib.org/3.1.0/gallery/color/named_colors.html to know the possible values for argument c\n",
    "    '''\n",
    "    lowerlim=ll\n",
    "    upperlim=ul\n",
    "    plt.rcParams['figure.figsize'] = [5, 5]\n",
    "        \n",
    "    plt.axhline(0, color='grey')\n",
    "    plt.axvline(0, color='grey')\n",
    "    plt.xticks(np.arange(lowerlim,upperlim,0.5))\n",
    "    plt.yticks(np.arange(lowerlim,upperlim,0.5))\n",
    "\n",
    "    plt.quiver(or_x,or_y,x,y, color=c, angles='xy', scale_units='xy',  scale=1, width=0.015)\n",
    "    plt.axis('equal')\n",
    "\n",
    "    plt.xlim([lowerlim,upperlim]) #<-- set the x axis limits\n",
    "    plt.ylim([lowerlim,upperlim]) #<-- set the y axis limits\n",
    "\n",
    "    plt.grid(b=True,which='both') #<-- plot grid lines\n",
    "#---------------------------------------------------------------\n",
    "\n",
    "U=np.array([[0.8, 0.4],\n",
    "            [0.4, 0.2]])\n",
    "x1=np.array([[1],[0]]) # remember that vectors are columns\n",
    "x2=np.array([[2],[0]]) # remember that vectors are columns\n",
    "x3=np.array([[1],[1]]) # remember that vectors are columns\n",
    "x4=np.array([[0],[2]]) # remember that vectors are columns\n",
    "\n",
    "\n",
    "print ('U=\\n', U , 'Shape:', U.shape)\n",
    "\n",
    "# You can check your results using '@' operator np.dot or np.matmul\n",
    "# Beware the order\n",
    "y1 = np.dot(U,x1)\n",
    "y2 = np.dot(U,x2)\n",
    "y3 = np.dot(U,x3)\n",
    "y4 = np.dot(U,x4)\n",
    "\n",
    "print ('x1=\\n', x1)\n",
    "print('y1=\\n',y1)\n",
    "\n",
    "draw_arrow(x1[0],x1[1],c='r')\n",
    "draw_arrow(y1[0],y1[1],c='b')\n",
    "plt.show()\n",
    "\n",
    "print ('x2=\\n', x2)\n",
    "print('y2=\\n',y2)\n",
    "\n",
    "draw_arrow(x2[0],x2[1],c='r')\n",
    "draw_arrow(y2[0],y2[1],c='b')\n",
    "plt.show()\n",
    "\n",
    "print ('x3=\\n', x3)\n",
    "print('y3=\\n',y3)\n",
    "\n",
    "draw_arrow(x3[0],x3[1],c='r')\n",
    "draw_arrow(y3[0],y3[1],c='b')\n",
    "plt.show()\n",
    "\n",
    "print ('x4=\\n', x4)\n",
    "print('y4=\\n',y4)\n",
    "\n",
    "draw_arrow(x4[0],x4[1],c='r')\n",
    "draw_arrow(y4[0],y4[1],c='b')\n",
    "plt.show()\n"
   ]
  },
  {
   "cell_type": "markdown",
   "metadata": {},
   "source": [
    "4. Let be matrix $S = \\left(\\begin{array}{cc}9 & 1\\\\ 1& 4 \\end{array}\\right)$. Consider the following vectors and calculate their images through $S$.\n",
    " - $(0.98, 0.19)' \\, , \\; (0.19, -0.98)'$ and any other vector you want.\n",
    " - Draw the original vectors and the corresponding images. Does something call your attention?"
   ]
  },
  {
   "cell_type": "code",
   "execution_count": 9,
   "metadata": {},
   "outputs": [
    {
     "name": "stdout",
     "output_type": "stream",
     "text": [
      "U=\n",
      " [[9 1]\n",
      " [1 4]] Shape: (2, 2)\n",
      "x1=\n",
      " [[0.98]\n",
      " [0.19]]\n",
      "y1=\n",
      " [[9.01]\n",
      " [1.74]]\n"
     ]
    },
    {
     "data": {
      "image/png": "[encoded data removed]",
      "text/plain": [
       "<Figure size 720x720 with 1 Axes>"
      ]
     },
     "metadata": {
      "needs_background": "light"
     },
     "output_type": "display_data"
    },
    {
     "name": "stdout",
     "output_type": "stream",
     "text": [
      "x2=\n",
      " [[ 0.19]\n",
      " [-0.98]]\n",
      "y2=\n",
      " [[ 0.73]\n",
      " [-3.73]]\n"
     ]
    },
    {
     "data": {
      "image/png": "[encoded data removed]",
      "text/plain": [
       "<Figure size 720x720 with 1 Axes>"
      ]
     },
     "metadata": {
      "needs_background": "light"
     },
     "output_type": "display_data"
    }
   ],
   "source": [
    "import matplotlib.pyplot as plt\n",
    "import numpy as np\n",
    "\n",
    "def draw_arrow(x,y,or_x=0, or_y=0,c='r',ll=-10,ul=10):\n",
    "    '''\n",
    "        x,y: the coordenates of the vector to be plot\n",
    "        or_x,or_y the origin of the vector (default (0,0))\n",
    "        c: color of the vector (default r=red)\n",
    "        ll: lowerlimit (default -2)\n",
    "        ul: upperlimit (default 2)\n",
    "        https://matplotlib.org/3.1.0/gallery/color/named_colors.html to know the possible values for argument c\n",
    "    '''\n",
    "    lowerlim=ll\n",
    "    upperlim=ul\n",
    "    plt.rcParams['figure.figsize'] = [10, 10]\n",
    "        \n",
    "    plt.axhline(0, color='grey')\n",
    "    plt.axvline(0, color='grey')\n",
    "    plt.xticks(np.arange(lowerlim,upperlim,5)) #size\n",
    "    plt.yticks(np.arange(lowerlim,upperlim,5))\n",
    "\n",
    "    plt.quiver(or_x,or_y,x,y, color=c, angles='xy', scale_units='xy',  scale=1, width=0.015)\n",
    "    plt.axis('equal')\n",
    "\n",
    "    plt.xlim([lowerlim,upperlim]) #<-- set the x axis limits\n",
    "    plt.ylim([lowerlim,upperlim]) #<-- set the y axis limits\n",
    "\n",
    "    plt.grid(b=True,which='both') #<-- plot grid lines\n",
    "#---------------------------------------------------------------\n",
    "\n",
    "U=np.array([[9, 1],\n",
    "            [1, 4]])\n",
    "x1=np.array([[0.98],[0.19]]) # remember that vectors are columns\n",
    "x2=np.array([[0.19],[-0.98]]) # remember that vectors are columns\n",
    "\n",
    "\n",
    "print ('U=\\n', U , 'Shape:', U.shape)\n",
    "\n",
    "# You can check your results using '@' operator np.dot or np.matmul\n",
    "# Beware the order\n",
    "y1 = np.dot(U,x1)\n",
    "y2 = np.dot(U,x2)\n",
    "\n",
    "print ('x1=\\n', x1)\n",
    "print('y1=\\n',y1)\n",
    "\n",
    "draw_arrow(x1[0],x1[1],c='r')\n",
    "draw_arrow(y1[0],y1[1],c='b')\n",
    "plt.show()\n",
    "\n",
    "print ('x2=\\n', x2)\n",
    "print('y2=\\n',y2)\n",
    "\n",
    "draw_arrow(x2[0],x2[1],c='r')\n",
    "draw_arrow(y2[0],y2[1],c='b')\n",
    "plt.show()\n"
   ]
  }
 ],
 "metadata": {
  "kernelspec": {
   "display_name": "Python 3",
   "language": "python",
   "name": "python3"
  },
  "language_info": {
   "codemirror_mode": {
    "name": "ipython",
    "version": 3
   },
   "file_extension": ".py",
   "mimetype": "text/x-python",
   "name": "python",
   "nbconvert_exporter": "python",
   "pygments_lexer": "ipython3",
   "version": "3.9.1"
  }
 },
 "nbformat": 4,
 "nbformat_minor": 4
}
