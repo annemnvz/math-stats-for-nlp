{
 "cells": [
  {
   "cell_type": "markdown",
   "metadata": {},
   "source": [
    "# Vectors\n",
    "\n",
    "1. Given vectors $\\mathbf{e}_1=(1, 0)'$ and $\\mathbf{e}_2=(0 , 1)'$, draw and calculate:\n",
    "\n",
    " - $\\mathbf{e}_1 + \\mathbf{e}_2$\n",
    " - $2 \\mathbf{e}_1 + \\mathbf{e}_2$\n",
    " - What would be the expression of vector (2, 3)' in terms of vectors  $\\mathbf{e}_1=(1, 0)'$ and $\\mathbf{e}_2=(0 , 1)'$?\n"
   ]
  },
  {
   "cell_type": "code",
   "execution_count": 12,
   "metadata": {},
   "outputs": [
    {
     "data": {
      "image/png": "[encoded data removed]",
      "text/plain": [
       "<Figure size 432x288 with 1 Axes>"
      ]
     },
     "metadata": {
      "needs_background": "light"
     },
     "output_type": "display_data"
    },
    {
     "data": {
      "image/png": "[encoded data removed]",
      "text/plain": [
       "<Figure size 432x288 with 1 Axes>"
      ]
     },
     "metadata": {
      "needs_background": "light"
     },
     "output_type": "display_data"
    }
   ],
   "source": [
    "import matplotlib.pyplot as plt\n",
    "import numpy as np\n",
    "\n",
    "def draw_arrow(x,y,or_x=0, or_y=0,c='r'):\n",
    "    '''\n",
    "        x,y: the coordenates of the vector to be plot\n",
    "        or_x,or_y the origin of the vector (default (0,0))\n",
    "        c: color of the vector (default r=red)\n",
    "        https://matplotlib.org/3.1.0/gallery/color/named_colors.html to know the possible values for argument c\n",
    "    '''\n",
    "        \n",
    "    plt.axhline(0, color='black')\n",
    "    plt.axvline(0, color='black')\n",
    "\n",
    "    plt.quiver(or_x,or_y,x,y, color=c, angles='xy', scale_units='xy', scale=1)\n",
    "\n",
    "\n",
    "    plt.xlim([-3,3]) #<-- set the x axis limits\n",
    "    plt.ylim([-3,3]) #<-- set the y axis limits\n",
    "\n",
    "    plt.grid(b=True, which='both') #<-- plot grid lines\n",
    "\n",
    "#---------------------------------------------------------------\n",
    "# examples of use\n",
    "e1 = draw_arrow(1,0,0.0, c='r')               # Draw vector (1,1)' (starting at (0,0)' - not necessary in red)\n",
    "e2 = draw_arrow(0,1,0.0, c='b')\n",
    "sum1 = draw_arrow(1,1,0.0, c='g')\n",
    "\n",
    "plt.show()\n",
    "#same for 2e1+e2\n",
    "\n",
    "#last\n",
    "sum1 = draw_arrow(2,3,0.0, c='g')"
   ]
  },
  {
   "cell_type": "markdown",
   "metadata": {},
   "source": [
    "2. Given vectors $\\mathbf{x}=(1, 1)'$ and $\\mathbf{y}=(2, 1)'$, draw and calculate:\n",
    "\n",
    " - $2\\mathbf{x}$\n",
    " - $0.5\\mathbf{x}$\n",
    " - $-\\mathbf{x}$\n",
    " - $\\mathbf{x} + \\mathbf{y}$\n",
    " - $0.7\\mathbf{x} + 0.5 \\mathbf{y}$"
   ]
  },
  {
   "cell_type": "markdown",
   "metadata": {},
   "source": [
    "3. Find the coordinates of vectors $–\\mathbf{v}$, $2\\mathbf{v}$, $–2.5\\mathbf{v}$ and draw the vectors in the coordinate system, if :\n",
    "    - $\\mathbf{v} = (2,6)'$\n",
    "    - $\\mathbf{v} = (-4,5)'$\n",
    "    - $\\mathbf{v} = (-1,-2)'$\n",
    "    - $\\mathbf{v} = (2,-3)'$"
   ]
  },
  {
   "cell_type": "markdown",
   "metadata": {},
   "source": [
    "4. Consider three vectors $\\mathbf{u} = (–1,5)'$,  $\\mathbf{v} = (2.7,3.8)'$,  $\\mathbf{w} = (4.2,–6)'$. \n",
    "Find the coordinates of vectors and plot them using the python code below:\n",
    "    - $\\mathbf{u+v}$\n",
    "    - $\\mathbf{v-u}$\n",
    "    - $\\mathbf{v-w}$\n",
    "    - $\\mathbf{u+2w}$\n",
    "    - $\\mathbf{3u-2v}$\n",
    "    - $\\mathbf{u+v+w}$\n",
    "    - $\\mathbf{0.5w+0.75v-2.5u}$\n",
    "    \n",
    "To plot them, follow the python code below.\n",
    " \n",
    "For example:\n",
    "   $\\mathbf{u+v} = \\begin{bmatrix}-1\\\\5\\end{bmatrix} + \\begin{bmatrix}2.7\\\\3.8\\end{bmatrix} =\n",
    "\t\t\\begin{bmatrix}-1+2.7\\\\5+3.8\\end{bmatrix}=\n",
    "\t\t\\begin{bmatrix}1.7\\\\8.8\\end{bmatrix}$\n",
    "\n",
    "To draw them, add the lines:     \n",
    "\n",
    "    draw_arrow(-1,5)               # Draw vector (-1,5)' (starting at (0,0)' in red)\n",
    "    draw_arrow(2.7,3.8,-1,5,c='b') # Draw vector (2.7,3.8)' starting at (-1,5)' in blue\n",
    "    draw_arrow(1.7,8.8,0,0,c='g')  # Draw vector (-2,1)' starting at (0,0)' in green\n",
    "    plt.show()\n",
    "\n",
    "In the case of your exercises, you will have to adapt the coordinates to the actual vector. Copy the code and add new plots for each exercise.    \n",
    "   "
   ]
  },
  {
   "cell_type": "code",
   "execution_count": 13,
   "metadata": {},
   "outputs": [
    {
     "data": {
      "image/png": "[encoded data removed]",
      "text/plain": [
       "<Figure size 432x288 with 1 Axes>"
      ]
     },
     "metadata": {
      "needs_background": "light"
     },
     "output_type": "display_data"
    }
   ],
   "source": [
    "import matplotlib.pyplot as plt\n",
    "import numpy as np\n",
    "\n",
    "def draw_arrow(x,y,or_x=0, or_y=0,c='r'):\n",
    "    '''\n",
    "        x,y: the coordenates of the vector to be plot\n",
    "        or_x,or_y the origin of the vector (default (0,0))\n",
    "        c: color of the vector (default r=red)\n",
    "        https://matplotlib.org/3.1.0/gallery/color/named_colors.html to know the possible values for argument c\n",
    "    '''\n",
    "        \n",
    "    plt.axhline(0, color='black')\n",
    "    plt.axvline(0, color='black')\n",
    "\n",
    "    plt.quiver(or_x,or_y,x,y, color=c, angles='xy', scale_units='xy', scale=1)\n",
    "\n",
    "\n",
    "    plt.xlim([-12,12]) #<-- set the x axis limits\n",
    "    plt.ylim([-12,12]) #<-- set the y axis limits\n",
    "\n",
    "    plt.grid(b=True, which='both') #<-- plot grid lines\n",
    "\n",
    "#---------------------------------------------------------------\n",
    "# examples of use\n",
    "draw_arrow(-1,5)               # Draw vector (-1,5)' (starting at (0,0)' in red)\n",
    "draw_arrow(2.7,3.8,-1,5,c='b') # Draw vector (2.7,3.8)' starting at (-1,5)' in blue\n",
    "draw_arrow(1.7,8.8,0,0,c='g')  # Draw vector (-2,1)' starting at (0,0)' in green\n",
    "plt.show()\n",
    "\n",
    "# Add new vectors in new plot\n",
    "#draw_arrow(xx,yy,c='color1')\n",
    "#draw_arrow(vv,ww,c='color2') \n",
    "\n",
    "#plt.show()\n",
    "\n"
   ]
  },
  {
   "cell_type": "code",
   "execution_count": 35,
   "metadata": {
    "scrolled": false
   },
   "outputs": [
    {
     "data": {
      "image/png": "[encoded data removed]",
      "text/plain": [
       "<Figure size 432x288 with 1 Axes>"
      ]
     },
     "metadata": {
      "needs_background": "light"
     },
     "output_type": "display_data"
    }
   ],
   "source": [
    "import matplotlib.pyplot as plt\n",
    "import numpy as np\n",
    "\n",
    "def draw_arrow(x,y,or_x=0, or_y=0,c='r'):\n",
    "    '''\n",
    "        x,y: the coordenates of the vector to be plot\n",
    "        or_x,or_y the origin of the vector (default (0,0))\n",
    "        c: color of the vector (default r=red)\n",
    "        https://matplotlib.org/3.1.0/gallery/color/named_colors.html to know the possible values for argument c\n",
    "    '''\n",
    "        \n",
    "    plt.axhline(0, color='black')\n",
    "    plt.axvline(0, color='black')\n",
    "\n",
    "    plt.quiver(or_x,or_y,x,y, color=c, angles='xy', scale_units='xy', scale=1)\n",
    "\n",
    "\n",
    "    plt.xlim([-10,10]) #<-- set the x axis limits\n",
    "    plt.ylim([-10,10]) #<-- set the y axis limits\n",
    "\n",
    "    plt.grid(b=True, which='both') #<-- plot grid lines\n",
    "    \n",
    "    \n",
    "#1- revert the vector you are substracting to the first one (u x(-1), in this case)\n",
    "#2- now make the sum of the two\n",
    "draw_arrow(2.7,3.8,1,-5,c='b')#v               \n",
    "draw_arrow(1,-5,0.0,c='r')#u reverted \n",
    "draw_arrow(3.7,-1.2,0.0,c='g')#result of sum of v and u reverted\n",
    "\n",
    "plt.show()  \n",
    "\n",
    "#draw_arrow(-1,5,2.7,3.8,c='b')#u \n",
    "#draw_arrow(2.7,3.8,0.0, c='r')#v               \n",
    "#draw_arrow(1.7,8.8,0.0,c='g')#result of substraction\n",
    "\n"
   ]
  },
  {
   "cell_type": "code",
   "execution_count": 39,
   "metadata": {},
   "outputs": [
    {
     "data": {
      "image/png": "[encoded data removed]",
      "text/plain": [
       "<Figure size 432x288 with 1 Axes>"
      ]
     },
     "metadata": {
      "needs_background": "light"
     },
     "output_type": "display_data"
    }
   ],
   "source": [
    "import matplotlib.pyplot as plt\n",
    "import numpy as np\n",
    "\n",
    "def draw_arrow(x,y,or_x=0, or_y=0,c='r'):\n",
    "    '''\n",
    "        x,y: the coordenates of the vector to be plot\n",
    "        or_x,or_y the origin of the vector (default (0,0))\n",
    "        c: color of the vector (default r=red)\n",
    "        https://matplotlib.org/3.1.0/gallery/color/named_colors.html to know the possible values for argument c\n",
    "    '''\n",
    "        \n",
    "    plt.axhline(0, color='black')\n",
    "    plt.axvline(0, color='black')\n",
    "\n",
    "    plt.quiver(or_x,or_y,x,y, color=c, angles='xy', scale_units='xy', scale=1)\n",
    "\n",
    "\n",
    "    plt.xlim([-10,10]) #<-- set the x axis limits\n",
    "    plt.ylim([-10,10]) #<-- set the y axis limits\n",
    "\n",
    "    plt.grid(b=True, which='both') #<-- plot grid lines\n",
    "    \n",
    "draw_arrow(-1,5,2.7,3.8,c='b') \n",
    "draw_arrow(2.7,3.8,0.0,c='r')               \n",
    "draw_arrow(1.7,8.8,0.0,c='g')\n",
    "\n",
    "plt.show()"
   ]
  },
  {
   "cell_type": "markdown",
   "metadata": {},
   "source": [
    "5. Given each pair of vectors $\\mathbf{x}$ and $\\mathbf{y}$, draw them and calculate their corresponding dot product. How would you interpret the result of the dot product?\n",
    "\n",
    " - $\\mathbf{x} = (1, 0)'$, $\\mathbf{y} = (0, 1)'$\n",
    " - $\\mathbf{x} = (1, 1)'$, $\\mathbf{y} = (-1/2, 1/2)'$\n",
    " - $\\mathbf{x} = (0.71, 0.71)'$, $\\mathbf{y} = (0.7, 0.9)'$\n",
    " - $\\mathbf{x} = (0.71, 0.71)'$, $\\mathbf{y} = (-0.7, -0.9)'$\n",
    " "
   ]
  },
  {
   "cell_type": "code",
   "execution_count": 45,
   "metadata": {},
   "outputs": [
    {
     "data": {
      "image/png": "[encoded data removed]",
      "text/plain": [
       "<Figure size 432x288 with 1 Axes>"
      ]
     },
     "metadata": {
      "needs_background": "light"
     },
     "output_type": "display_data"
    }
   ],
   "source": [
    "import matplotlib.pyplot as plt\n",
    "import numpy as np\n",
    "\n",
    "def draw_arrow(x,y,or_x=0, or_y=0,c='r'):\n",
    "    '''\n",
    "        x,y: the coordenates of the vector to be plot\n",
    "        or_x,or_y the origin of the vector (default (0,0))\n",
    "        c: color of the vector (default r=red)\n",
    "        https://matplotlib.org/3.1.0/gallery/color/named_colors.html to know the possible values for argument c\n",
    "    '''\n",
    "        \n",
    "    plt.axhline(0, color='black')\n",
    "    plt.axvline(0, color='black')\n",
    "\n",
    "    plt.quiver(or_x,or_y,x,y, color=c, angles='xy', scale_units='xy', scale=1)\n",
    "\n",
    "\n",
    "    plt.xlim([-1.5,1.5]) #<-- set the x axis limits\n",
    "    plt.ylim([-1.5,1.5]) #<-- set the y axis limits\n",
    "\n",
    "    plt.grid(b=True, which='both') #<-- plot grid lines\n",
    "\n",
    "#dot product of a=(a1,a2) and b=(b1,b2):\n",
    "#a'b=a1*b1+a2*b2\n",
    "\n",
    "x = draw_arrow(1,0,0.0, c='r')               \n",
    "y = draw_arrow(0,1,0.0, c='b')\n",
    "\n",
    "xy = draw_arrow(0,0,0.0, c='g') #not shown because it's 0."
   ]
  },
  {
   "cell_type": "code",
   "execution_count": 48,
   "metadata": {},
   "outputs": [
    {
     "data": {
      "image/png": "[encoded data removed]",
      "text/plain": [
       "<Figure size 432x288 with 1 Axes>"
      ]
     },
     "metadata": {
      "needs_background": "light"
     },
     "output_type": "display_data"
    }
   ],
   "source": [
    "import matplotlib.pyplot as plt\n",
    "import numpy as np\n",
    "\n",
    "def draw_arrow(x,y,or_x=0, or_y=0,c='r'):\n",
    "    '''\n",
    "        x,y: the coordenates of the vector to be plot\n",
    "        or_x,or_y the origin of the vector (default (0,0))\n",
    "        c: color of the vector (default r=red)\n",
    "        https://matplotlib.org/3.1.0/gallery/color/named_colors.html to know the possible values for argument c\n",
    "    '''\n",
    "        \n",
    "    plt.axhline(0, color='black')\n",
    "    plt.axvline(0, color='black')\n",
    "\n",
    "    plt.quiver(or_x,or_y,x,y, color=c, angles='xy', scale_units='xy', scale=1)\n",
    "\n",
    "\n",
    "    plt.xlim([-1.5,1.5]) #<-- set the x axis limits\n",
    "    plt.ylim([-1.5,1.5]) #<-- set the y axis limits\n",
    "\n",
    "    plt.grid(b=True, which='both') #<-- plot grid lines\n",
    "\n",
    "#dot product of a=(a1,a2) and b=(b1,b2):\n",
    "#a'b=a1*b1+a2*b2\n",
    "\n",
    "x = draw_arrow(1,1,0.0, c='r')               \n",
    "y = draw_arrow(-0.5,0.5,0.0, c='b')\n",
    "#1*(-0.5)+1*(0,5)=dot product xy\n",
    "xy = draw_arrow(-0.5,0.5,0.0, c='g') #shadows y because it's the same, that's why we can't see it."
   ]
  },
  {
   "cell_type": "code",
   "execution_count": 49,
   "metadata": {},
   "outputs": [
    {
     "data": {
      "image/png": "[encoded data removed]",
      "text/plain": [
       "<Figure size 432x288 with 1 Axes>"
      ]
     },
     "metadata": {
      "needs_background": "light"
     },
     "output_type": "display_data"
    }
   ],
   "source": [
    "import matplotlib.pyplot as plt\n",
    "import numpy as np\n",
    "\n",
    "def draw_arrow(x,y,or_x=0, or_y=0,c='r'):\n",
    "    '''\n",
    "        x,y: the coordenates of the vector to be plot\n",
    "        or_x,or_y the origin of the vector (default (0,0))\n",
    "        c: color of the vector (default r=red)\n",
    "        https://matplotlib.org/3.1.0/gallery/color/named_colors.html to know the possible values for argument c\n",
    "    '''\n",
    "        \n",
    "    plt.axhline(0, color='black')\n",
    "    plt.axvline(0, color='black')\n",
    "\n",
    "    plt.quiver(or_x,or_y,x,y, color=c, angles='xy', scale_units='xy', scale=1)\n",
    "\n",
    "\n",
    "    plt.xlim([-1.5,1.5]) #<-- set the x axis limits\n",
    "    plt.ylim([-1.5,1.5]) #<-- set the y axis limits\n",
    "\n",
    "    plt.grid(b=True, which='both') #<-- plot grid lines\n",
    "\n",
    "#dot product of a=(a1,a2) and b=(b1,b2):\n",
    "#a'b=a1*b1+a2*b2\n",
    "#0.489+0.64=1.129\n",
    "\n",
    "x = draw_arrow(0.71,0.71,0.0, c='r')               \n",
    "y = draw_arrow(0.7,0.9,0.0, c='b')\n",
    "\n",
    "xy = draw_arrow(0.49,0.64,0.0, c='g') "
   ]
  },
  {
   "cell_type": "code",
   "execution_count": 50,
   "metadata": {},
   "outputs": [
    {
     "data": {
      "image/png": "[encoded data removed]",
      "text/plain": [
       "<Figure size 432x288 with 1 Axes>"
      ]
     },
     "metadata": {
      "needs_background": "light"
     },
     "output_type": "display_data"
    }
   ],
   "source": [
    "import matplotlib.pyplot as plt\n",
    "import numpy as np\n",
    "\n",
    "def draw_arrow(x,y,or_x=0, or_y=0,c='r'):\n",
    "    '''\n",
    "        x,y: the coordenates of the vector to be plot\n",
    "        or_x,or_y the origin of the vector (default (0,0))\n",
    "        c: color of the vector (default r=red)\n",
    "        https://matplotlib.org/3.1.0/gallery/color/named_colors.html to know the possible values for argument c\n",
    "    '''\n",
    "        \n",
    "    plt.axhline(0, color='black')\n",
    "    plt.axvline(0, color='black')\n",
    "\n",
    "    plt.quiver(or_x,or_y,x,y, color=c, angles='xy', scale_units='xy', scale=1)\n",
    "\n",
    "\n",
    "    plt.xlim([-1.5,1.5]) #<-- set the x axis limits\n",
    "    plt.ylim([-1.5,1.5]) #<-- set the y axis limits\n",
    "\n",
    "    plt.grid(b=True, which='both') #<-- plot grid lines\n",
    "\n",
    "#dot product of a=(a1,a2) and b=(b1,b2):\n",
    "#a'b=a1*b1+a2*b2\n",
    "\n",
    "x = draw_arrow(0.71,0.71,0.0, c='r')               \n",
    "y = draw_arrow(-0.7,-0.9,0.0, c='b')\n",
    "\n",
    "xy = draw_arrow(-0.49,-0.64,0.0, c='g') "
   ]
  }
 ],
 "metadata": {
  "kernelspec": {
   "display_name": "Python 3",
   "language": "python",
   "name": "python3"
  },
  "language_info": {
   "codemirror_mode": {
    "name": "ipython",
    "version": 3
   },
   "file_extension": ".py",
   "mimetype": "text/x-python",
   "name": "python",
   "nbconvert_exporter": "python",
   "pygments_lexer": "ipython3",
   "version": "3.9.1"
  }
 },
 "nbformat": 4,
 "nbformat_minor": 4
}
