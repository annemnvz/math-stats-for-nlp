{
 "cells": [
  {
   "cell_type": "markdown",
   "metadata": {},
   "source": [
    "# Gradient descent\n",
    "\n",
    "## Example\n",
    "\n",
    "Input: $x = 1$ \n",
    "\n",
    "Output: $y = 2$\n",
    "\n",
    "Aim: Find weight $a$ so that $F(a) = a \\cdot x$ is as close as possible to the output. That means to find value of $a$ that **minimizes** the errror $R(a) = (F(a) - y)^2$.\n",
    "\n",
    "- Given value $a= 6$ as starting value of the weight, calculate the actual prediction, the gap between the prediction and the goal to predict as well as the corresponding error.\n",
    "\n",
    "1. Plot the error for different values of weight. What is its shape?\n"
   ]
  },
  {
   "cell_type": "code",
   "execution_count": 5,
   "metadata": {},
   "outputs": [
    {
     "name": "stdout",
     "output_type": "stream",
     "text": [
      "Prediction = 6 ; gap =  4 ; error =  16\n"
     ]
    }
   ],
   "source": [
    "import numpy as np\n",
    "import matplotlib.pyplot as plt\n",
    " \n",
    "input_data = 1 # <-- Input data\n",
    "goal = 2 # <-- Goal to predict\n",
    "weight = 6 # <-- starting value of weight #a\n",
    "\n",
    "# Compute the actual prediction, the gap and the error\n",
    "prediction = weight*input_data # <-- prediction\n",
    "gap = prediction - goal # <-- Difference between the prediction and the goal to predict. gap is sometimes called delta\n",
    "error = gap**2 # <- Error\n",
    "print('Prediction =', prediction, '; gap = ', gap, '; error = ', error)"
   ]
  },
  {
   "cell_type": "code",
   "execution_count": 4,
   "metadata": {},
   "outputs": [
    {
     "data": {
      "image/png": "[encoded data removed]",
      "text/plain": [
       "<Figure size 432x288 with 1 Axes>"
      ]
     },
     "metadata": {},
     "output_type": "display_data"
    }
   ],
   "source": [
    "#------------ Only to plot  ---------\n",
    "weight_to_plot = np.linspace(-5, 5, num=100) # <-- Different possible values for weight\n",
    "input_data = np.array([1]) # <-- Input data (x = 1)\n",
    "goal_prediction = np.array([2]) # <-- Goal to predict (y = 2)\n",
    "\n",
    "# Compute the predictions for weight_to_plot\n",
    "prediction = weight_to_plot * input_data\n",
    "gap =  prediction - goal_prediction\n",
    "error = gap**2\n",
    "\n",
    "plt.plot(weight_to_plot, error)\n",
    "plt.xlabel('Different possible values of weight')\n",
    "plt.show()\n",
    "#-------------------------------------"
   ]
  },
  {
   "cell_type": "markdown",
   "metadata": {},
   "source": [
    "- Fixed the step $\\alpha=0.2$, what will be the updated value of the weight?"
   ]
  },
  {
   "cell_type": "code",
   "execution_count": 27,
   "metadata": {},
   "outputs": [
    {
     "name": "stdout",
     "output_type": "stream",
     "text": [
      "Prediction = 6 ; gap =  4 ; error =  16\n",
      "Weight = 5.2\n",
      "New prediction = 5.2 ; New gap =  3.2 ; New error =  10.240000000000002\n"
     ]
    }
   ],
   "source": [
    "import numpy as np\n",
    "\n",
    "input_data = 1 # <-- Input data\n",
    "goal = 2 # <-- Goal to predict\n",
    "weight = 6 # <-- starting value of weight\n",
    "alpha = 0.2 # <-- step\n",
    "\n",
    "# Compute the actual prediction, the gap and the error\n",
    "prediction = weight*input_data # <-- prediction\n",
    "gap = prediction - goal # <-- Difference between the prediction and the goal to predict. gap is sometimes called delta\n",
    "error = gap**2\n",
    "print('Prediction =', prediction, '; gap = ', gap, '; error = ', error)\n",
    "\n",
    "\n",
    "# Update the weight\n",
    "weight = weight - alpha * gap * input_data\n",
    "print('Weight =', weight)\n",
    "# update the prediction, gap, error\n",
    "prediction = weight * input_data\n",
    "gap = prediction - goal\n",
    "error = gap**2\n",
    "print('New prediction =', prediction, '; New gap = ', gap, '; New error = ', error)"
   ]
  },
  {
   "cell_type": "markdown",
   "metadata": {},
   "source": [
    " 2. Start the algorithm with $weight=1.1$, step $\\alpha= 0.5$. How many iterations did you need? Plot the error as a function of number of iteration (i.e., *Number of iteration* in the horizontal axis, *Error* in the vertical axis.)\n",
    " "
   ]
  },
  {
   "cell_type": "code",
   "execution_count": 33,
   "metadata": {},
   "outputs": [
    {
     "data": {
      "text/plain": [
       "Text(0, 0.5, 'Error')"
      ]
     },
     "execution_count": 33,
     "metadata": {},
     "output_type": "execute_result"
    },
    {
     "data": {
      "image/png": "[encoded data removed]",
      "text/plain": [
       "<Figure size 432x288 with 1 Axes>"
      ]
     },
     "metadata": {},
     "output_type": "display_data"
    }
   ],
   "source": [
    "import numpy as np\n",
    "import matplotlib.pyplot as plt\n",
    "\n",
    "input_data = np.array([1]) # <-- input data (x=1)\n",
    "goal_prediction = np.array([2]) # <-- goal to predict (y=2)\n",
    "weight = np.array([1.1]) # <-- Weight \n",
    "alpha = 0.5 # <- step of the function\n",
    "Ni = 30       # <-- Number of iterations you have considered\n",
    "errors = np.zeros(Ni) # <-- Vector of 0s to save the error in each iteration \n",
    "for iteration in range(Ni):\n",
    "    prediction = weight*input_data\n",
    "    gap = prediction - goal_prediction\n",
    "    errors[iteration] = gap**2\n",
    "    weight = weight - alpha * gap * input_data # <-- Update the weight. This is the important part\n",
    "\n",
    "# Plot the errors\n",
    "plt.plot(errors)\n",
    "plt.hlines(0, xmin=0, xmax=Ni, colors='r') # <-- Add horizontal line at error=0\n",
    "plt.xlabel('Iteration')    \n",
    "plt.ylabel('Error')"
   ]
  },
  {
   "cell_type": "markdown",
   "metadata": {},
   "source": [
    " 3. Repeat the algorithm with a smaller step ($\\alpha= 0.01$, for instance). What happened to the error? Draw it.\n",
    " 4. Repeat the algorithm with a bigger step ($\\alpha= 2.5$, for instance). What happened to the error?"
   ]
  },
  {
   "cell_type": "code",
   "execution_count": 3,
   "metadata": {},
   "outputs": [
    {
     "name": "stdout",
     "output_type": "stream",
     "text": [
      "Final weight= [-5.73859348e+08] Final prediction [3.82572902e+08]\n"
     ]
    },
    {
     "data": {
      "image/png": "[encoded data removed]",
      "text/plain": [
       "<Figure size 432x288 with 1 Axes>"
      ]
     },
     "metadata": {
      "needs_background": "light"
     },
     "output_type": "display_data"
    }
   ],
   "source": [
    "import numpy as np\n",
    "import matplotlib.pyplot as plt\n",
    "\n",
    "input_data = np.array([1]) # <-- input data (x=1)\n",
    "goal_prediction = np.array([2]) # <-- goal to predict (y=2)\n",
    "weight = np.array([1.1]) # <-- Weight \n",
    "alpha = 2.5 # <- step of the function\n",
    "Ni = 50      # <-- Number of iterations you have considered\n",
    "errors = np.zeros(Ni) # <-- Vector of 0s to save the error in each iteration \n",
    "for iteration in range(Ni):\n",
    "    prediction = weight*input_data\n",
    "    gap = prediction - goal_prediction\n",
    "    errors[iteration] = gap**2\n",
    "    weight = weight - alpha * gap * input_data # <-- Update the weight. This is the important part\n",
    "\n",
    "# Plot the errors\n",
    "plt.plot(errors)\n",
    "plt.hlines(0, xmin=0, xmax=Ni, colors='r') # <-- Add horizontal line at error=0\n",
    "plt.xlabel('Iteration')    \n",
    "plt.ylabel('Error')\n",
    "\n",
    "#Final prediction\n",
    "print('Final weight=', weight, 'Final prediction', prediction)"
   ]
  },
  {
   "cell_type": "code",
   "execution_count": 80,
   "metadata": {},
   "outputs": [
    {
     "name": "stdout",
     "output_type": "stream",
     "text": [
      "Final weight [1.93074952] Final prediction [1.92710476]\n"
     ]
    },
    {
     "data": {
      "image/png": "[encoded data removed]",
      "text/plain": [
       "<Figure size 432x288 with 1 Axes>"
      ]
     },
     "metadata": {},
     "output_type": "display_data"
    }
   ],
   "source": [
    "import numpy as np\n",
    "import matplotlib.pyplot as plt\n",
    "\n",
    "input_data = np.array([1]) # <-- input data (x=1)\n",
    "goal_prediction = np.array([2]) # <-- goal to predict (y=2)\n",
    "weight = np.array([1.1]) # <-- Weight \n",
    "alpha = 0.05 # <- step of the function\n",
    "Ni = 50       # <-- Number of iterations you have considered\n",
    "errors = np.zeros(Ni) # <-- Vector of 0s to save the error in each iteration \n",
    "for iteration in range(Ni):\n",
    "    prediction = weight*input_data\n",
    "    gap = prediction - goal_prediction\n",
    "    errors[iteration] = gap**2\n",
    "    weight = weight - alpha * gap * input_data # <-- Update the weight. This is the important part\n",
    "\n",
    "# Plot the errors\n",
    "plt.plot(errors)\n",
    "plt.hlines(0, xmin=0, xmax=Ni, colors='r') # <-- Add horizontal line at error=0\n",
    "plt.xlabel('Iteration')    \n",
    "plt.ylabel('Error')\n",
    "\n",
    "#Final prediction\n",
    "print('Final weight=', weight, 'Final prediction', prediction)"
   ]
  },
  {
   "cell_type": "markdown",
   "metadata": {},
   "source": [
    "## Example - Continuation: considering several individuals\n",
    "\n",
    "1. Given input values $x= (2, 2.3, 0.4, 1.8, 1.6, 0.7, 2.7, 0.8, 0.2) $ and corresponding output values $y=(0.9, 0.9, 1.5, 1.2, 0.9, 1.2, 0.7,  1.2,  1.4)$, find the weight $a$ that better predicts the output. \n",
    "\n",
    "Learning one example at a time is a variant on gradient descent: *stochastic gradient descent*\n",
    "\n",
    "Note: Start with weight $a= 1.1$ and step $\\alpha = 0.001$"
   ]
  },
  {
   "cell_type": "code",
   "execution_count": 25,
   "metadata": {},
   "outputs": [
    {
     "name": "stdout",
     "output_type": "stream",
     "text": [
      "\n",
      "\n",
      "iteration 249 cumulative error [5.34125018] Weight = [0.50917416]\n"
     ]
    },
    {
     "data": {
      "text/plain": [
       "<matplotlib.collections.PathCollection at 0x7fd1af6c2208>"
      ]
     },
     "execution_count": 25,
     "metadata": {},
     "output_type": "execute_result"
    },
    {
     "data": {
      "image/png": "[encoded data removed]",
      "text/plain": [
       "<Figure size 432x288 with 1 Axes>"
      ]
     },
     "metadata": {},
     "output_type": "display_data"
    }
   ],
   "source": [
    "# Learning one example at a time is a variant on gradient descent: stochastic gradient descent\n",
    "import numpy as np\n",
    "\n",
    "X = np.array([[2],[2.3],[0.4],[1.8],[1.6],[0.7],[2.7],[0.8],[0.2]]) # <-- Input data, n=9 instances\n",
    "Y = np.array([[0.9], [0.9], [1.5], [1.2], [0.9], [1.2], [0.7], [1.2], [1.4]]) #outputs\n",
    "\n",
    "weight = 1.1 # <-- Weight \n",
    "alpha = 0.001 # <-- step of the function\n",
    "Ni = 250 # <-- Number of iterations\n",
    "\n",
    "for iteration in range(Ni):\n",
    "    error_for_all = 0\n",
    "    for row_index in range(len(Y)): #this for is when we have different inputs and outputs. \n",
    "        input_data = X[row_index]\n",
    "        goal_predictions = Y[row_index]\n",
    "        predictions = weight*input_data\n",
    "        gap = predictions - goal_predictions\n",
    "        error = gap**2\n",
    "        error_for_all = error_for_all + error  #For shorter,  error_for_all +=  error   \n",
    "        deriv = gap*input_data        # <-- derivative of R #the amount we need to update\n",
    "        weight = weight - alpha*deriv       # <-- update the weight \n",
    "print('\\n')\n",
    "print('iteration',iteration, 'cumulative error', error_for_all, 'Weight =', weight)\n",
    "\n",
    "import matplotlib.pyplot as plt\n",
    "plt.scatter(X, Y)\n",
    "plt.scatter(X, weight*X, color='r') #for each input the prediction I have in red: 'r', for each input the output I saw.\n",
    "#the problem is that is not a good structure to capture x and y.\n",
    "#that is why we do not reach a good solution\n",
    "#optimization problem is solved: 0.5; but the function we put here was not\n",
    "#the appropriate one. F(x) = a · x structure was not correct."
   ]
  },
  {
   "cell_type": "code",
   "execution_count": null,
   "metadata": {},
   "outputs": [],
   "source": []
  },
  {
   "cell_type": "code",
   "execution_count": null,
   "metadata": {},
   "outputs": [],
   "source": []
  }
 ],
 "metadata": {
  "kernelspec": {
   "display_name": "Python 3.9.4 64-bit",
   "language": "python",
   "name": "python3"
  },
  "language_info": {
   "codemirror_mode": {
    "name": "ipython",
    "version": 3
   },
   "file_extension": ".py",
   "mimetype": "text/x-python",
   "name": "python",
   "nbconvert_exporter": "python",
   "pygments_lexer": "ipython3",
   "version": "3.9.4"
  },
  "vscode": {
   "interpreter": {
    "hash": "96a55daf58faaef8a1b96e459858a5fcbfc9b90e0725bdbc6027ea64829581b1"
   }
  }
 },
 "nbformat": 4,
 "nbformat_minor": 2
}
